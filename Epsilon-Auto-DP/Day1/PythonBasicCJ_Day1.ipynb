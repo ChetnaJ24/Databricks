{
 "cells": [
  {
   "cell_type": "code",
   "execution_count": 0,
   "metadata": {
    "application/vnd.databricks.v1+cell": {
     "cellMetadata": {},
     "inputWidgets": {},
     "nuid": "975460e1-ea11-4d21-a08c-4f3c9e160ee2",
     "showTitle": false,
     "tableResultSettingsMap": {},
     "title": ""
    },
    "id": "CNdai5WUB9P6"
   },
   "outputs": [],
   "source": []
  },
  {
   "cell_type": "markdown",
   "metadata": {
    "application/vnd.databricks.v1+cell": {
     "cellMetadata": {},
     "inputWidgets": {},
     "nuid": "0d5fd544-65a3-406b-bf8d-bc45cff27720",
     "showTitle": false,
     "tableResultSettingsMap": {},
     "title": ""
    },
    "id": "aVosrmShCxtM"
   },
   "source": [
    "## Getting Started with Python"
   ]
  },
  {
   "cell_type": "markdown",
   "metadata": {
    "application/vnd.databricks.v1+cell": {
     "cellMetadata": {},
     "inputWidgets": {},
     "nuid": "c5de141f-aa5c-4ec1-a379-aa6cb61e8606",
     "showTitle": false,
     "tableResultSettingsMap": {},
     "title": ""
    },
    "id": "ByKfeCFYDCfB"
   },
   "source": [
    "Fundamental Data Types\n",
    "1.   Int\n",
    "2.   Float\n",
    "3. String\n",
    "4. Bool\n",
    "5. Complex"
   ]
  },
  {
   "cell_type": "code",
   "execution_count": 0,
   "metadata": {
    "application/vnd.databricks.v1+cell": {
     "cellMetadata": {},
     "inputWidgets": {},
     "nuid": "7a2d507d-3f6e-44e0-b5a2-1d2813fdcc02",
     "showTitle": false,
     "tableResultSettingsMap": {},
     "title": ""
    },
    "colab": {
     "base_uri": "https://localhost:8080/"
    },
    "executionInfo": {
     "elapsed": 19,
     "status": "ok",
     "timestamp": 1750669869524,
     "user": {
      "displayName": "Chetna Joshi",
      "userId": "13209563015630160048"
     },
     "user_tz": -330
    },
    "id": "HqoAt99eC0cR",
    "outputId": "1f3e152f-ca37-45b4-aefd-bb2d2b314478"
   },
   "outputs": [],
   "source": [
    "a=16\n",
    "print(a)\n",
    "print(type(a))"
   ]
  },
  {
   "cell_type": "code",
   "execution_count": 0,
   "metadata": {
    "application/vnd.databricks.v1+cell": {
     "cellMetadata": {},
     "inputWidgets": {},
     "nuid": "1736cdfd-20d1-4a99-85fb-21bd9c13043d",
     "showTitle": false,
     "tableResultSettingsMap": {},
     "title": ""
    },
    "colab": {
     "base_uri": "https://localhost:8080/"
    },
    "executionInfo": {
     "elapsed": 12,
     "status": "ok",
     "timestamp": 1750670049560,
     "user": {
      "displayName": "Chetna Joshi",
      "userId": "13209563015630160048"
     },
     "user_tz": -330
    },
    "id": "DvVR90TBDh__",
    "outputId": "6953ca8e-b2af-4dd8-9ed2-966f49cd86dc"
   },
   "outputs": [],
   "source": [
    "b=16.4623\n",
    "print(b)\n",
    "print(type(b))"
   ]
  },
  {
   "cell_type": "code",
   "execution_count": 0,
   "metadata": {
    "application/vnd.databricks.v1+cell": {
     "cellMetadata": {},
     "inputWidgets": {},
     "nuid": "bff30a38-46a0-4797-af7a-1946860e817f",
     "showTitle": false,
     "tableResultSettingsMap": {},
     "title": ""
    },
    "colab": {
     "base_uri": "https://localhost:8080/"
    },
    "executionInfo": {
     "elapsed": 8,
     "status": "ok",
     "timestamp": 1750670111767,
     "user": {
      "displayName": "Chetna Joshi",
      "userId": "13209563015630160048"
     },
     "user_tz": -330
    },
    "id": "iW48TftWEMQH",
    "outputId": "3732ed25-3e08-4907-904a-682afe60ae24"
   },
   "outputs": [],
   "source": [
    "c=\"\"\"Python is easy\n",
    "peasy \"\"\"\n",
    "print(c)\n",
    "print(type(c))"
   ]
  },
  {
   "cell_type": "code",
   "execution_count": 0,
   "metadata": {
    "application/vnd.databricks.v1+cell": {
     "cellMetadata": {},
     "inputWidgets": {},
     "nuid": "d5c6a469-2ebc-47e7-9761-fe60bb611450",
     "showTitle": false,
     "tableResultSettingsMap": {},
     "title": ""
    },
    "colab": {
     "base_uri": "https://localhost:8080/"
    },
    "executionInfo": {
     "elapsed": 32,
     "status": "ok",
     "timestamp": 1750670376136,
     "user": {
      "displayName": "Chetna Joshi",
      "userId": "13209563015630160048"
     },
     "user_tz": -330
    },
    "id": "Gk-EdKfLEfMH",
    "outputId": "27a509f3-5185-480f-ee39-183d0a55dd2e"
   },
   "outputs": [],
   "source": [
    "d=True\n",
    "print(d)\n",
    "print(type(d))"
   ]
  },
  {
   "cell_type": "code",
   "execution_count": 0,
   "metadata": {
    "application/vnd.databricks.v1+cell": {
     "cellMetadata": {},
     "inputWidgets": {},
     "nuid": "b9391e66-2591-4ccf-9e2b-39d38fe65c32",
     "showTitle": false,
     "tableResultSettingsMap": {},
     "title": ""
    },
    "colab": {
     "base_uri": "https://localhost:8080/",
     "height": 176
    },
    "executionInfo": {
     "elapsed": 156,
     "status": "error",
     "timestamp": 1750670395566,
     "user": {
      "displayName": "Chetna Joshi",
      "userId": "13209563015630160048"
     },
     "user_tz": -330
    },
    "id": "Zb9hp7b0Ffuo",
    "outputId": "e460516e-c1dd-4299-e271-457315b844cf"
   },
   "outputs": [],
   "source": [
    "e=false\n",
    "print(e)\n",
    "print(type(e))"
   ]
  },
  {
   "cell_type": "code",
   "execution_count": 0,
   "metadata": {
    "application/vnd.databricks.v1+cell": {
     "cellMetadata": {},
     "inputWidgets": {},
     "nuid": "64cd2b0d-20cb-4832-ae88-77ada9db1788",
     "showTitle": false,
     "tableResultSettingsMap": {},
     "title": ""
    },
    "colab": {
     "base_uri": "https://localhost:8080/"
    },
    "executionInfo": {
     "elapsed": 29,
     "status": "ok",
     "timestamp": 1750670799377,
     "user": {
      "displayName": "Chetna Joshi",
      "userId": "13209563015630160048"
     },
     "user_tz": -330
    },
    "id": "sdR7x2gOFkcG",
    "outputId": "60233675-58a4-4dd3-cbb7-63a8e8eb581c"
   },
   "outputs": [],
   "source": [
    "print(id(a))"
   ]
  },
  {
   "cell_type": "code",
   "execution_count": 0,
   "metadata": {
    "application/vnd.databricks.v1+cell": {
     "cellMetadata": {},
     "inputWidgets": {},
     "nuid": "a988ccb1-cce1-4436-b2c5-2d917a2a9452",
     "showTitle": false,
     "tableResultSettingsMap": {},
     "title": ""
    },
    "colab": {
     "base_uri": "https://localhost:8080/"
    },
    "executionInfo": {
     "elapsed": 39,
     "status": "ok",
     "timestamp": 1750670858473,
     "user": {
      "displayName": "Chetna Joshi",
      "userId": "13209563015630160048"
     },
     "user_tz": -330
    },
    "id": "nSsyiu-5HHDs",
    "outputId": "10578b4c-4baa-43b0-bf56-a2af7a365e8a"
   },
   "outputs": [],
   "source": [
    "a=20\n",
    "print(id(a))"
   ]
  },
  {
   "cell_type": "code",
   "execution_count": 0,
   "metadata": {
    "application/vnd.databricks.v1+cell": {
     "cellMetadata": {},
     "inputWidgets": {},
     "nuid": "76f83045-751a-4320-807f-32f18d97004b",
     "showTitle": false,
     "tableResultSettingsMap": {},
     "title": ""
    },
    "colab": {
     "base_uri": "https://localhost:8080/"
    },
    "executionInfo": {
     "elapsed": 27,
     "status": "ok",
     "timestamp": 1750670976854,
     "user": {
      "displayName": "Chetna Joshi",
      "userId": "13209563015630160048"
     },
     "user_tz": -330
    },
    "id": "D0F7oTo2HVer",
    "outputId": "c1fae272-21cf-419e-c677-cfea75f95833"
   },
   "outputs": [],
   "source": [
    "a=30\n",
    "print(id(a))"
   ]
  },
  {
   "cell_type": "code",
   "execution_count": 0,
   "metadata": {
    "application/vnd.databricks.v1+cell": {
     "cellMetadata": {},
     "inputWidgets": {},
     "nuid": "9c279a56-9f8d-4814-9d75-7606b3e6d349",
     "showTitle": false,
     "tableResultSettingsMap": {},
     "title": ""
    },
    "colab": {
     "base_uri": "https://localhost:8080/"
    },
    "executionInfo": {
     "elapsed": 6,
     "status": "ok",
     "timestamp": 1750670984755,
     "user": {
      "displayName": "Chetna Joshi",
      "userId": "13209563015630160048"
     },
     "user_tz": -330
    },
    "id": "nO3gWtwtHxP7",
    "outputId": "b7bab132-560d-4114-c877-e9a61e146715"
   },
   "outputs": [],
   "source": [
    "a=20\n",
    "print(id(a))"
   ]
  },
  {
   "cell_type": "code",
   "execution_count": 0,
   "metadata": {
    "application/vnd.databricks.v1+cell": {
     "cellMetadata": {},
     "inputWidgets": {},
     "nuid": "7c5814ed-a7e8-4462-856c-3cb1e2b17ebe",
     "showTitle": false,
     "tableResultSettingsMap": {},
     "title": ""
    },
    "colab": {
     "base_uri": "https://localhost:8080/"
    },
    "executionInfo": {
     "elapsed": 6,
     "status": "ok",
     "timestamp": 1750671345093,
     "user": {
      "displayName": "Chetna Joshi",
      "userId": "13209563015630160048"
     },
     "user_tz": -330
    },
    "id": "6rgbqoE7H0UB",
    "outputId": "5f9180a9-7ee7-47dc-e005-76cbd4e4c09d"
   },
   "outputs": [],
   "source": [
    "c=20\n",
    "print(type(c))\n",
    "print(id(c))"
   ]
  },
  {
   "cell_type": "code",
   "execution_count": 0,
   "metadata": {
    "application/vnd.databricks.v1+cell": {
     "cellMetadata": {},
     "inputWidgets": {},
     "nuid": "a22312a8-1039-4a31-8417-2acf4df52f91",
     "showTitle": false,
     "tableResultSettingsMap": {},
     "title": ""
    },
    "executionInfo": {
     "elapsed": 49,
     "status": "ok",
     "timestamp": 1750671763311,
     "user": {
      "displayName": "Chetna Joshi",
      "userId": "13209563015630160048"
     },
     "user_tz": -330
    },
    "id": "xUtfKx0jJMS3"
   },
   "outputs": [],
   "source": [
    "s=\"Databricks is data and AI company\""
   ]
  },
  {
   "cell_type": "code",
   "execution_count": 0,
   "metadata": {
    "application/vnd.databricks.v1+cell": {
     "cellMetadata": {},
     "inputWidgets": {},
     "nuid": "2deedc33-db30-4428-bb97-0542260dab0b",
     "showTitle": false,
     "tableResultSettingsMap": {},
     "title": ""
    },
    "colab": {
     "base_uri": "https://localhost:8080/"
    },
    "executionInfo": {
     "elapsed": 43,
     "status": "ok",
     "timestamp": 1750671818635,
     "user": {
      "displayName": "Chetna Joshi",
      "userId": "13209563015630160048"
     },
     "user_tz": -330
    },
    "id": "7bw_AesJKyYy",
    "outputId": "8bbe933f-45d7-4861-bc51-4be2f3b8dc6d"
   },
   "outputs": [],
   "source": [
    "print(s[1])\n",
    "print(s[-4])"
   ]
  },
  {
   "cell_type": "code",
   "execution_count": 0,
   "metadata": {
    "application/vnd.databricks.v1+cell": {
     "cellMetadata": {},
     "inputWidgets": {},
     "nuid": "e6d8786a-ec0f-4ddc-ae60-6cf7afa85fe1",
     "showTitle": false,
     "tableResultSettingsMap": {},
     "title": ""
    },
    "colab": {
     "base_uri": "https://localhost:8080/"
    },
    "executionInfo": {
     "elapsed": 5,
     "status": "ok",
     "timestamp": 1750671850735,
     "user": {
      "displayName": "Chetna Joshi",
      "userId": "13209563015630160048"
     },
     "user_tz": -330
    },
    "id": "-YprumjZKzuG",
    "outputId": "d946357f-8e5b-4eb2-d1bf-2a3db22b8ba2"
   },
   "outputs": [],
   "source": [
    "print(s[0:10])"
   ]
  },
  {
   "cell_type": "code",
   "execution_count": 0,
   "metadata": {
    "application/vnd.databricks.v1+cell": {
     "cellMetadata": {},
     "inputWidgets": {},
     "nuid": "053ac44d-667a-4c4a-a5c0-5026ddf4bdef",
     "showTitle": false,
     "tableResultSettingsMap": {},
     "title": ""
    },
    "colab": {
     "base_uri": "https://localhost:8080/"
    },
    "executionInfo": {
     "elapsed": 12,
     "status": "ok",
     "timestamp": 1750671887446,
     "user": {
      "displayName": "Chetna Joshi",
      "userId": "13209563015630160048"
     },
     "user_tz": -330
    },
    "id": "kPbyxi8iK1ca",
    "outputId": "70b888fa-bc36-4f2a-8183-18bb0bcd5b2e"
   },
   "outputs": [],
   "source": [
    "print(s[10:])"
   ]
  },
  {
   "cell_type": "code",
   "execution_count": 0,
   "metadata": {
    "application/vnd.databricks.v1+cell": {
     "cellMetadata": {},
     "inputWidgets": {},
     "nuid": "b9ae8903-d22c-4368-8dbb-7c78e5246af9",
     "showTitle": false,
     "tableResultSettingsMap": {},
     "title": ""
    },
    "colab": {
     "base_uri": "https://localhost:8080/"
    },
    "executionInfo": {
     "elapsed": 10,
     "status": "ok",
     "timestamp": 1750672258383,
     "user": {
      "displayName": "Chetna Joshi",
      "userId": "13209563015630160048"
     },
     "user_tz": -330
    },
    "id": "rJmrlm7qLQsk",
    "outputId": "1d276ed0-1743-4f08-c9a0-197785005074"
   },
   "outputs": [],
   "source": [
    "s= \"databricks\" * 10\n",
    "print (s)"
   ]
  },
  {
   "cell_type": "code",
   "execution_count": 0,
   "metadata": {
    "application/vnd.databricks.v1+cell": {
     "cellMetadata": {},
     "inputWidgets": {},
     "nuid": "95a02b6f-7ab5-43b3-a3fc-66ec67fc2614",
     "showTitle": false,
     "tableResultSettingsMap": {},
     "title": ""
    },
    "colab": {
     "base_uri": "https://localhost:8080/",
     "height": 158
    },
    "executionInfo": {
     "elapsed": 44,
     "status": "error",
     "timestamp": 1750672302939,
     "user": {
      "displayName": "Chetna Joshi",
      "userId": "13209563015630160048"
     },
     "user_tz": -330
    },
    "id": "Bpn0kSXkMoE7",
    "outputId": "bafb7931-0b34-4899-878b-e28cfa3668fc"
   },
   "outputs": [],
   "source": [
    "s= \"databricks\" * \"aws\"\n",
    "print (s)"
   ]
  },
  {
   "cell_type": "code",
   "execution_count": 0,
   "metadata": {
    "application/vnd.databricks.v1+cell": {
     "cellMetadata": {},
     "inputWidgets": {},
     "nuid": "c2e35b28-cc32-408a-bb31-ad3c6c2ade28",
     "showTitle": false,
     "tableResultSettingsMap": {},
     "title": ""
    },
    "colab": {
     "base_uri": "https://localhost:8080/"
    },
    "executionInfo": {
     "elapsed": 5,
     "status": "ok",
     "timestamp": 1750672378037,
     "user": {
      "displayName": "Chetna Joshi",
      "userId": "13209563015630160048"
     },
     "user_tz": -330
    },
    "id": "GE-iXj-DM2IG",
    "outputId": "c133126d-2ac0-45da-b3fc-4e985c7237e2"
   },
   "outputs": [],
   "source": [
    "s= \"databricks\" +\" \" + \"aws\"\n",
    "print (s)"
   ]
  },
  {
   "cell_type": "code",
   "execution_count": 0,
   "metadata": {
    "application/vnd.databricks.v1+cell": {
     "cellMetadata": {},
     "inputWidgets": {},
     "nuid": "d78e1d80-bdd9-499d-b73d-2db8dc66dc1c",
     "showTitle": false,
     "tableResultSettingsMap": {},
     "title": ""
    },
    "colab": {
     "base_uri": "https://localhost:8080/",
     "height": 158
    },
    "executionInfo": {
     "elapsed": 13,
     "status": "error",
     "timestamp": 1750672401326,
     "user": {
      "displayName": "Chetna Joshi",
      "userId": "13209563015630160048"
     },
     "user_tz": -330
    },
    "id": "4xcJAgoQNGZy",
    "outputId": "23100783-7a9a-4cf6-ac48-68ec09ac7c6f"
   },
   "outputs": [],
   "source": [
    "s= \"databricks\" +\" \" + 0\n",
    "print (s)"
   ]
  },
  {
   "cell_type": "code",
   "execution_count": 0,
   "metadata": {
    "application/vnd.databricks.v1+cell": {
     "cellMetadata": {},
     "inputWidgets": {},
     "nuid": "7512a214-256a-47ef-b6a8-da2e397abe52",
     "showTitle": false,
     "tableResultSettingsMap": {},
     "title": ""
    },
    "executionInfo": {
     "elapsed": 46,
     "status": "ok",
     "timestamp": 1750672450209,
     "user": {
      "displayName": "Chetna Joshi",
      "userId": "13209563015630160048"
     },
     "user_tz": -330
    },
    "id": "daEzUvYpNOIh"
   },
   "outputs": [],
   "source": [
    "# + both should str + str (str + str)\n",
    "# * one should str other should be int ( int * str)"
   ]
  },
  {
   "cell_type": "code",
   "execution_count": 0,
   "metadata": {
    "application/vnd.databricks.v1+cell": {
     "cellMetadata": {},
     "inputWidgets": {},
     "nuid": "0f2f1600-1594-45ec-a2a8-7865eea03450",
     "showTitle": false,
     "tableResultSettingsMap": {},
     "title": ""
    },
    "id": "ejROCgL3NaFy"
   },
   "outputs": [],
   "source": []
  },
  {
   "cell_type": "markdown",
   "metadata": {
    "application/vnd.databricks.v1+cell": {
     "cellMetadata": {},
     "inputWidgets": {},
     "nuid": "0735e888-1e0e-4f74-b3b8-0c478efd3561",
     "showTitle": false,
     "tableResultSettingsMap": {},
     "title": ""
    },
    "id": "aHVHk6h1PBwg"
   },
   "source": [
    "### TypeCasting"
   ]
  },
  {
   "cell_type": "code",
   "execution_count": 0,
   "metadata": {
    "application/vnd.databricks.v1+cell": {
     "cellMetadata": {},
     "inputWidgets": {},
     "nuid": "b3ef6f58-f66f-4eef-86dc-f39ca2ba4b15",
     "showTitle": false,
     "tableResultSettingsMap": {},
     "title": ""
    },
    "colab": {
     "base_uri": "https://localhost:8080/"
    },
    "executionInfo": {
     "elapsed": 16,
     "status": "ok",
     "timestamp": 1750672931230,
     "user": {
      "displayName": "Chetna Joshi",
      "userId": "13209563015630160048"
     },
     "user_tz": -330
    },
    "id": "heoSeFnvPDk9",
    "outputId": "73ffd267-2195-44ee-8450-7b2214777b05"
   },
   "outputs": [],
   "source": [
    "print(float(10))\n",
    "print(str(10))\n",
    "print(bool(10))\n",
    "print(bool(0))"
   ]
  },
  {
   "cell_type": "code",
   "execution_count": 0,
   "metadata": {
    "application/vnd.databricks.v1+cell": {
     "cellMetadata": {},
     "inputWidgets": {},
     "nuid": "c21063e5-a415-4e66-91da-0c2fe5abb6f8",
     "showTitle": false,
     "tableResultSettingsMap": {},
     "title": ""
    },
    "colab": {
     "base_uri": "https://localhost:8080/"
    },
    "executionInfo": {
     "elapsed": 11,
     "status": "ok",
     "timestamp": 1750673015394,
     "user": {
      "displayName": "Chetna Joshi",
      "userId": "13209563015630160048"
     },
     "user_tz": -330
    },
    "id": "7zX7cB5GPH78",
    "outputId": "f13b5651-b100-4fd0-87e3-95ff7c4b7e54"
   },
   "outputs": [],
   "source": [
    "print(int(10.1))\n",
    "print(str(10.1))\n",
    "print(bool(10.1))\n",
    "print(bool(0.0))"
   ]
  },
  {
   "cell_type": "code",
   "execution_count": 0,
   "metadata": {
    "application/vnd.databricks.v1+cell": {
     "cellMetadata": {},
     "inputWidgets": {},
     "nuid": "765014f8-dd60-4342-b5e3-168d19565975",
     "showTitle": false,
     "tableResultSettingsMap": {},
     "title": ""
    },
    "colab": {
     "base_uri": "https://localhost:8080/"
    },
    "executionInfo": {
     "elapsed": 8,
     "status": "ok",
     "timestamp": 1750673166726,
     "user": {
      "displayName": "Chetna Joshi",
      "userId": "13209563015630160048"
     },
     "user_tz": -330
    },
    "id": "F516biycPXCA",
    "outputId": "2400159c-4d66-4e75-b2a8-deed2a0ce0d2"
   },
   "outputs": [],
   "source": [
    "##print(int(\"Python\"))\n",
    "print(int(\"10\"))\n",
    "print(str(\"Python\"))\n",
    "print(bool())\n",
    "print(bool(\"Python\"))"
   ]
  },
  {
   "cell_type": "markdown",
   "metadata": {
    "application/vnd.databricks.v1+cell": {
     "cellMetadata": {},
     "inputWidgets": {},
     "nuid": "69ea95c0-8947-43e5-ace5-e123a5350f6b",
     "showTitle": false,
     "tableResultSettingsMap": {},
     "title": ""
    },
    "id": "8KRGb6ulSdXI"
   },
   "source": [
    "# Data Type Advance\n",
    "\n",
    "1. List\n",
    "2. Tuple\n",
    "3. Set\n",
    "4. Dict\n",
    "5. Range"
   ]
  },
  {
   "cell_type": "code",
   "execution_count": 0,
   "metadata": {
    "application/vnd.databricks.v1+cell": {
     "cellMetadata": {},
     "inputWidgets": {},
     "nuid": "9a3422e0-d03a-4271-b36e-8200f8390dab",
     "showTitle": false,
     "tableResultSettingsMap": {},
     "title": ""
    },
    "colab": {
     "base_uri": "https://localhost:8080/"
    },
    "executionInfo": {
     "elapsed": 13,
     "status": "ok",
     "timestamp": 1750673955433,
     "user": {
      "displayName": "Chetna Joshi",
      "userId": "13209563015630160048"
     },
     "user_tz": -330
    },
    "id": "ZMe5uWBzSeHr",
    "outputId": "8a4843cc-a0e2-4d04-9458-db8171b4988a"
   },
   "outputs": [],
   "source": [
    "## List\n",
    "l=[10,30,\"aws\",'list',True,99.45,10,False]\n",
    "print(l)\n",
    "print(type(l))"
   ]
  },
  {
   "cell_type": "code",
   "execution_count": 0,
   "metadata": {
    "application/vnd.databricks.v1+cell": {
     "cellMetadata": {},
     "inputWidgets": {},
     "nuid": "422d2fa8-d16f-41cc-ab38-2360df8bdb8f",
     "showTitle": false,
     "tableResultSettingsMap": {},
     "title": ""
    },
    "colab": {
     "base_uri": "https://localhost:8080/"
    },
    "executionInfo": {
     "elapsed": 8,
     "status": "ok",
     "timestamp": 1750674353691,
     "user": {
      "displayName": "Chetna Joshi",
      "userId": "13209563015630160048"
     },
     "user_tz": -330
    },
    "id": "n-My8v-cTJjE",
    "outputId": "f52d4962-9841-4ba5-f31a-b70593e44f46"
   },
   "outputs": [],
   "source": [
    "print(l)\n",
    "print(id(l))\n",
    "print(type(l))\n",
    "l.append(55)\n",
    "print(l)\n",
    "print(id(l))"
   ]
  },
  {
   "cell_type": "code",
   "execution_count": 0,
   "metadata": {
    "application/vnd.databricks.v1+cell": {
     "cellMetadata": {},
     "inputWidgets": {},
     "nuid": "38251bdc-a89b-47b9-bbdd-8766e751300d",
     "showTitle": false,
     "tableResultSettingsMap": {},
     "title": ""
    },
    "colab": {
     "base_uri": "https://localhost:8080/"
    },
    "executionInfo": {
     "elapsed": 5,
     "status": "ok",
     "timestamp": 1750674367826,
     "user": {
      "displayName": "Chetna Joshi",
      "userId": "13209563015630160048"
     },
     "user_tz": -330
    },
    "id": "qAH0zSAGUpXZ",
    "outputId": "fde8fed8-bfb2-4d62-a487-13189bc3bfb0"
   },
   "outputs": [],
   "source": [
    "l=[1,2,3,'a','b']\n",
    "print(l)\n",
    "print(id(l))"
   ]
  },
  {
   "cell_type": "markdown",
   "metadata": {
    "application/vnd.databricks.v1+cell": {
     "cellMetadata": {},
     "inputWidgets": {},
     "nuid": "b05e6333-d3ac-441f-ac9e-99e3c0a09405",
     "showTitle": false,
     "tableResultSettingsMap": {},
     "title": ""
    },
    "id": "6-Hf3HaaVJzK"
   },
   "source": [
    "# Tuple\n",
    "\n",
    "1.   Exactly same as list except that it is immutable\n",
    "2.   Read only version of list is tuple\n",
    "3. ()\n",
    "\n"
   ]
  },
  {
   "cell_type": "code",
   "execution_count": 0,
   "metadata": {
    "application/vnd.databricks.v1+cell": {
     "cellMetadata": {},
     "inputWidgets": {},
     "nuid": "0a4ae7de-d1b6-4975-9c64-22c4ecbec042",
     "showTitle": false,
     "tableResultSettingsMap": {},
     "title": ""
    },
    "executionInfo": {
     "elapsed": 45,
     "status": "ok",
     "timestamp": 1750674783247,
     "user": {
      "displayName": "Chetna Joshi",
      "userId": "13209563015630160048"
     },
     "user_tz": -330
    },
    "id": "0ooNlANAVYb6"
   },
   "outputs": [],
   "source": [
    "t=(10,10,'a',True,'Naval')"
   ]
  },
  {
   "cell_type": "code",
   "execution_count": 0,
   "metadata": {
    "application/vnd.databricks.v1+cell": {
     "cellMetadata": {},
     "inputWidgets": {},
     "nuid": "c0ef4fa2-222b-45bc-90a0-1ebfb86080f8",
     "showTitle": false,
     "tableResultSettingsMap": {},
     "title": ""
    },
    "colab": {
     "base_uri": "https://localhost:8080/",
     "height": 35
    },
    "executionInfo": {
     "elapsed": 23,
     "status": "ok",
     "timestamp": 1750674784488,
     "user": {
      "displayName": "Chetna Joshi",
      "userId": "13209563015630160048"
     },
     "user_tz": -330
    },
    "id": "RXpuYp91Vg1l",
    "outputId": "23972a1b-df6a-40f7-c489-b69d293c4ea9"
   },
   "outputs": [],
   "source": [
    "t[-1]"
   ]
  },
  {
   "cell_type": "code",
   "execution_count": 0,
   "metadata": {
    "application/vnd.databricks.v1+cell": {
     "cellMetadata": {},
     "inputWidgets": {},
     "nuid": "3229bd29-cbeb-4522-8986-b31e2cea57f8",
     "showTitle": false,
     "tableResultSettingsMap": {},
     "title": ""
    },
    "colab": {
     "base_uri": "https://localhost:8080/",
     "height": 141
    },
    "executionInfo": {
     "elapsed": 33,
     "status": "error",
     "timestamp": 1750674786265,
     "user": {
      "displayName": "Chetna Joshi",
      "userId": "13209563015630160048"
     },
     "user_tz": -330
    },
    "id": "9GBMsi5EVizZ",
    "outputId": "8df8a127-339d-4c64-a76d-637a7745711b"
   },
   "outputs": [],
   "source": [
    "t.append(99)"
   ]
  },
  {
   "cell_type": "markdown",
   "metadata": {
    "application/vnd.databricks.v1+cell": {
     "cellMetadata": {},
     "inputWidgets": {},
     "nuid": "ab557d28-edb2-49f4-9997-9d62f5636c76",
     "showTitle": false,
     "tableResultSettingsMap": {},
     "title": ""
    },
    "id": "jO5cU9RlaAyn"
   },
   "source": [
    "#set\n",
    "\n",
    "{}\n",
    "1.Hetergenous objects are allowed\n",
    "2.Duplicates are not allowed\n",
    "3.Order is NOT preserved\n",
    "4.Indexing and slicing NOT support\n",
    "5.Mutable"
   ]
  },
  {
   "cell_type": "code",
   "execution_count": 0,
   "metadata": {
    "application/vnd.databricks.v1+cell": {
     "cellMetadata": {},
     "inputWidgets": {},
     "nuid": "d6e81e50-262b-4ff7-8390-02c83576fc26",
     "showTitle": false,
     "tableResultSettingsMap": {},
     "title": ""
    },
    "colab": {
     "base_uri": "https://localhost:8080/"
    },
    "executionInfo": {
     "elapsed": 45,
     "status": "ok",
     "timestamp": 1750675812188,
     "user": {
      "displayName": "Chetna Joshi",
      "userId": "13209563015630160048"
     },
     "user_tz": -330
    },
    "id": "vOmSLCkeZ88D",
    "outputId": "8de07d19-d239-44ec-be6f-f8405cc3c449"
   },
   "outputs": [],
   "source": [
    "[ ]\n",
    "s={10,10,20,30,30,'A',True,'A','Python',20}\n",
    "print(s)"
   ]
  },
  {
   "cell_type": "markdown",
   "metadata": {
    "application/vnd.databricks.v1+cell": {
     "cellMetadata": {},
     "inputWidgets": {},
     "nuid": "8a3b7a3e-6710-4c71-bb1d-57f304b80cf6",
     "showTitle": false,
     "tableResultSettingsMap": {},
     "title": ""
    },
    "id": "WmB-KF4gaVc4"
   },
   "source": [
    "Dict\n",
    "{k:v}\n",
    "Duplicate keys are NOT allowed\n",
    "Duplicate values are allowed\n",
    "Heterogenous are allowed\n",
    "Mutable"
   ]
  },
  {
   "cell_type": "code",
   "execution_count": 0,
   "metadata": {
    "application/vnd.databricks.v1+cell": {
     "cellMetadata": {},
     "inputWidgets": {},
     "nuid": "9e3d191b-9b7e-46f5-9b2f-31f0c38b41c1",
     "showTitle": false,
     "tableResultSettingsMap": {},
     "title": ""
    },
    "colab": {
     "base_uri": "https://localhost:8080/"
    },
    "executionInfo": {
     "elapsed": 53,
     "status": "ok",
     "timestamp": 1750675897900,
     "user": {
      "displayName": "Chetna Joshi",
      "userId": "13209563015630160048"
     },
     "user_tz": -330
    },
    "id": "5AViXgATaO4d",
    "outputId": "6a1eae56-7cd8-4d8e-b7eb-8aea38e04021"
   },
   "outputs": [],
   "source": [
    "d={1:'Naval',2:\"Ramakrishna\",3:\"Jaya\",4:\"Praveen\",5:\"Praveen\",6:True,7:100.0}\n",
    "\n",
    "print(d)"
   ]
  },
  {
   "cell_type": "code",
   "execution_count": 0,
   "metadata": {
    "application/vnd.databricks.v1+cell": {
     "cellMetadata": {},
     "inputWidgets": {},
     "nuid": "5ae76b59-d357-446a-8542-cf9027617e33",
     "showTitle": false,
     "tableResultSettingsMap": {},
     "title": ""
    },
    "colab": {
     "base_uri": "https://localhost:8080/"
    },
    "executionInfo": {
     "elapsed": 10,
     "status": "ok",
     "timestamp": 1750675900632,
     "user": {
      "displayName": "Chetna Joshi",
      "userId": "13209563015630160048"
     },
     "user_tz": -330
    },
    "id": "qpZH7R4Tabgb",
    "outputId": "cbe6987a-1f4f-4c4c-f815-55e2fea01a97"
   },
   "outputs": [],
   "source": [
    "d[5]='Mohan'\n",
    "print(d)"
   ]
  },
  {
   "cell_type": "code",
   "execution_count": 0,
   "metadata": {
    "application/vnd.databricks.v1+cell": {
     "cellMetadata": {},
     "inputWidgets": {},
     "nuid": "0e12b012-89fe-49cc-821d-c32091c10185",
     "showTitle": false,
     "tableResultSettingsMap": {},
     "title": ""
    },
    "colab": {
     "base_uri": "https://localhost:8080/"
    },
    "executionInfo": {
     "elapsed": 6,
     "status": "ok",
     "timestamp": 1750675992406,
     "user": {
      "displayName": "Chetna Joshi",
      "userId": "13209563015630160048"
     },
     "user_tz": -330
    },
    "id": "xM5Oh-8naf8_",
    "outputId": "ebfeea7c-b669-4a7c-f30d-b686f2e62e8b"
   },
   "outputs": [],
   "source": [
    "print(d[3])"
   ]
  },
  {
   "cell_type": "code",
   "execution_count": 0,
   "metadata": {
    "application/vnd.databricks.v1+cell": {
     "cellMetadata": {},
     "inputWidgets": {},
     "nuid": "cca7df52-31cc-4af1-9dbe-ae04cfe7154b",
     "showTitle": false,
     "tableResultSettingsMap": {},
     "title": ""
    },
    "id": "lfd4Pg4xa5lm"
   },
   "outputs": [],
   "source": []
  },
  {
   "cell_type": "markdown",
   "metadata": {
    "application/vnd.databricks.v1+cell": {
     "cellMetadata": {},
     "inputWidgets": {},
     "nuid": "903d719a-b98c-42a1-ace6-ec9f850b3fcb",
     "showTitle": false,
     "tableResultSettingsMap": {},
     "title": ""
    },
    "id": "KeApzK1RfZPm"
   },
   "source": [
    "### Range\n",
    "[] Range: Sequence of numbers.\n"
   ]
  },
  {
   "cell_type": "code",
   "execution_count": 0,
   "metadata": {
    "application/vnd.databricks.v1+cell": {
     "cellMetadata": {},
     "inputWidgets": {},
     "nuid": "654e59c6-c544-492b-b7ad-46bc927701e4",
     "showTitle": false,
     "tableResultSettingsMap": {},
     "title": ""
    },
    "colab": {
     "base_uri": "https://localhost:8080/"
    },
    "executionInfo": {
     "elapsed": 15,
     "status": "ok",
     "timestamp": 1750677232907,
     "user": {
      "displayName": "Chetna Joshi",
      "userId": "13209563015630160048"
     },
     "user_tz": -330
    },
    "id": "y8Q_oqycfhw3",
    "outputId": "3c616860-0390-4481-d027-72c641f97b59"
   },
   "outputs": [],
   "source": [
    "range(10)"
   ]
  },
  {
   "cell_type": "code",
   "execution_count": 0,
   "metadata": {
    "application/vnd.databricks.v1+cell": {
     "cellMetadata": {},
     "inputWidgets": {},
     "nuid": "82fc82e7-66ab-49b8-b685-0ebae4bee364",
     "showTitle": false,
     "tableResultSettingsMap": {},
     "title": ""
    },
    "colab": {
     "base_uri": "https://localhost:8080/"
    },
    "executionInfo": {
     "elapsed": 39,
     "status": "ok",
     "timestamp": 1750677250834,
     "user": {
      "displayName": "Chetna Joshi",
      "userId": "13209563015630160048"
     },
     "user_tz": -330
    },
    "id": "XN2AP_t4fpuj",
    "outputId": "80e2942b-57d8-40a3-f0ad-279dc3cf0cab"
   },
   "outputs": [],
   "source": [
    "for i in range(0,10):\n",
    "  print(i)"
   ]
  },
  {
   "cell_type": "code",
   "execution_count": 0,
   "metadata": {
    "application/vnd.databricks.v1+cell": {
     "cellMetadata": {},
     "inputWidgets": {},
     "nuid": "f262dc4f-582f-4102-bf24-ec2241075542",
     "showTitle": false,
     "tableResultSettingsMap": {},
     "title": ""
    },
    "colab": {
     "base_uri": "https://localhost:8080/"
    },
    "executionInfo": {
     "elapsed": 46,
     "status": "ok",
     "timestamp": 1750677262714,
     "user": {
      "displayName": "Chetna Joshi",
      "userId": "13209563015630160048"
     },
     "user_tz": -330
    },
    "id": "-1PAy3KGfuGj",
    "outputId": "8a2c67c9-d212-4630-cc0d-56570c7b58f3"
   },
   "outputs": [],
   "source": [
    "for i in range(5,10):\n",
    "  print(i)"
   ]
  },
  {
   "cell_type": "code",
   "execution_count": 0,
   "metadata": {
    "application/vnd.databricks.v1+cell": {
     "cellMetadata": {},
     "inputWidgets": {},
     "nuid": "853b6973-a1a4-43e5-aa7c-77099005f72a",
     "showTitle": false,
     "tableResultSettingsMap": {},
     "title": ""
    },
    "colab": {
     "base_uri": "https://localhost:8080/"
    },
    "executionInfo": {
     "elapsed": 11,
     "status": "ok",
     "timestamp": 1750677270127,
     "user": {
      "displayName": "Chetna Joshi",
      "userId": "13209563015630160048"
     },
     "user_tz": -330
    },
    "id": "tePJrthKfxAJ",
    "outputId": "7bf5bcfe-175b-47db-dc08-3620c908b888"
   },
   "outputs": [],
   "source": [
    "for i in range(0,10,2):\n",
    "  print(i)"
   ]
  },
  {
   "cell_type": "code",
   "execution_count": 0,
   "metadata": {
    "application/vnd.databricks.v1+cell": {
     "cellMetadata": {},
     "inputWidgets": {},
     "nuid": "67c6a00c-b53b-4f4b-b0b1-b95f00ef1878",
     "showTitle": false,
     "tableResultSettingsMap": {},
     "title": ""
    },
    "colab": {
     "base_uri": "https://localhost:8080/",
     "height": 158
    },
    "executionInfo": {
     "elapsed": 61,
     "status": "error",
     "timestamp": 1750677374263,
     "user": {
      "displayName": "Chetna Joshi",
      "userId": "13209563015630160048"
     },
     "user_tz": -330
    },
    "id": "QT_oJtdCfyy1",
    "outputId": "32fdf641-846b-4f03-f186-87a7aba51745"
   },
   "outputs": [],
   "source": [
    "for i in range(0,100,2.5):\n",
    "  print(i)"
   ]
  },
  {
   "cell_type": "code",
   "execution_count": 0,
   "metadata": {
    "application/vnd.databricks.v1+cell": {
     "cellMetadata": {},
     "inputWidgets": {},
     "nuid": "858c7e39-f654-4263-ab0a-0d8a26d4d952",
     "showTitle": false,
     "tableResultSettingsMap": {},
     "title": ""
    },
    "colab": {
     "base_uri": "https://localhost:8080/"
    },
    "executionInfo": {
     "elapsed": 14,
     "status": "ok",
     "timestamp": 1750677599734,
     "user": {
      "displayName": "Chetna Joshi",
      "userId": "13209563015630160048"
     },
     "user_tz": -330
    },
    "id": "DzwLXe-ngA_c",
    "outputId": "6bf6cabf-4ee5-40b2-ed35-abff549e9ed2"
   },
   "outputs": [],
   "source": [
    "for i in range(10,5,-2):\n",
    "  print(i)"
   ]
  },
  {
   "cell_type": "code",
   "execution_count": 0,
   "metadata": {
    "application/vnd.databricks.v1+cell": {
     "cellMetadata": {},
     "inputWidgets": {},
     "nuid": "f9359968-958a-4503-bca4-9a48c8fb20f1",
     "showTitle": false,
     "tableResultSettingsMap": {},
     "title": ""
    },
    "id": "LHvyXh5FgOUF"
   },
   "outputs": [],
   "source": []
  }
 ],
 "metadata": {
  "application/vnd.databricks.v1+notebook": {
   "computePreferences": null,
   "dashboards": [],
   "environmentMetadata": null,
   "inputWidgetPreferences": null,
   "language": "python",
   "notebookMetadata": {
    "pythonIndentUnit": 4
   },
   "notebookName": "PythonBasicCJ_Day1",
   "widgets": {}
  },
  "colab": {
   "authorship_tag": "ABX9TyN7ap+AeZ3KmS8ldX9NnAAC",
   "provenance": []
  },
  "kernelspec": {
   "display_name": "Python 3",
   "name": "python3"
  },
  "language_info": {
   "name": "python"
  }
 },
 "nbformat": 4,
 "nbformat_minor": 0
}
