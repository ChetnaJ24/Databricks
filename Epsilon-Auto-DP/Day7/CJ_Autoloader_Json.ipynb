{
 "cells": [
  {
   "cell_type": "code",
   "execution_count": 0,
   "metadata": {
    "application/vnd.databricks.v1+cell": {
     "cellMetadata": {},
     "inputWidgets": {},
     "nuid": "3ff85ad3-5c8f-4042-8eb0-3b9c77a8aced",
     "showTitle": false,
     "tableResultSettingsMap": {},
     "title": ""
    }
   },
   "outputs": [],
   "source": [
    "%MD\n",
    "## Medical Data\n",
    "##Processing time 2 mins\n"
   ]
  },
  {
   "cell_type": "markdown",
   "metadata": {
    "application/vnd.databricks.v1+cell": {
     "cellMetadata": {},
     "inputWidgets": {},
     "nuid": "6e3ac7b9-91c6-4b37-ad0d-c92eeef16ee3",
     "showTitle": false,
     "tableResultSettingsMap": {},
     "title": ""
    }
   },
   "source": [
    "##-- Markup \n",
    "spark.readStream.format(\"cloudFiles\") \\\n",
    "  .option(\"cloudFiles.format\", \"json\") \\\n",
    "  .option(\"cloudFiles.schemaLocation\", \"<path-to-schema-location>\") \\\n",
    "  .load(\"<path-to-source-data>\") \\\n",
    "  .writeStream \\\n",
    "  .option(\"mergeSchema\", \"true\") \\\n",
    "  .option(\"checkpointLocation\", \"<path-to-checkpoint>\") \\\n",
    "  .start(\"<path_to_target\")"
   ]
  },
  {
   "cell_type": "code",
   "execution_count": 0,
   "metadata": {
    "application/vnd.databricks.v1+cell": {
     "cellMetadata": {
      "byteLimit": 2048000,
      "rowLimit": 10000
     },
     "inputWidgets": {},
     "nuid": "da3022f6-1008-40b6-8e4e-8343383bfac1",
     "showTitle": false,
     "tableResultSettingsMap": {},
     "title": ""
    }
   },
   "outputs": [],
   "source": [
    "input=\"s3://jpmctraining/input\"\n",
    "schema=\"s3://jpmctraining/checkpoint/chetna/autoloader/med_schema\"\n",
    "checkpoint=\"s3://jpmctraining/checkpoint/chetna/autoloader/med_checkpoint\""
   ]
  },
  {
   "cell_type": "code",
   "execution_count": 0,
   "metadata": {
    "application/vnd.databricks.v1+cell": {
     "cellMetadata": {
      "byteLimit": 2048000,
      "rowLimit": 10000
     },
     "inputWidgets": {},
     "nuid": "9c25bfc3-a626-4b54-a22e-4d508414df04",
     "showTitle": false,
     "tableResultSettingsMap": {},
     "title": ""
    }
   },
   "outputs": [],
   "source": [
    "(\n",
    "spark\n",
    " .readStream\n",
    " .format(\"cloudFiles\")\n",
    " .option(\"cloudFiles.format\",\"json\")\n",
    " .option(\"cloudFiles.schemaLocation\",schema)\n",
    " .option(\"cloudFiles.inferColumnTypes\",True)\n",
    " #.option(\"cloudFiles.schemaEvolutionMode\",\"addNewColumns\")\n",
    " .option(\"cloudFiles.schemaEvolutionMode\",\"rescue\")\n",
    " .load(input)\n",
    " .writeStream\n",
    " .option(\"checkpointLocation\",checkpoint)\n",
    " .option(\"mergeSchema\",True)\n",
    " .trigger(processingTime='2 minute')\n",
    "#.trigger(once=True)\n",
    " .toTable(\"auto.chetna_bronze.med_data\")\n",
    " )"
   ]
  },
  {
   "cell_type": "code",
   "execution_count": 0,
   "metadata": {
    "application/vnd.databricks.v1+cell": {
     "cellMetadata": {
      "byteLimit": 2048000,
      "implicitDf": true,
      "rowLimit": 10000
     },
     "inputWidgets": {},
     "nuid": "43836587-3d03-46f4-8d06-79127955d631",
     "showTitle": false,
     "tableResultSettingsMap": {},
     "title": ""
    }
   },
   "outputs": [],
   "source": [
    "%sql\n",
    "--drop table if exists auto.chetna_bronze.autoloader"
   ]
  },
  {
   "cell_type": "code",
   "execution_count": 0,
   "metadata": {
    "application/vnd.databricks.v1+cell": {
     "cellMetadata": {
      "byteLimit": 2048000,
      "implicitDf": true,
      "rowLimit": 10000
     },
     "inputWidgets": {},
     "nuid": "b4f4a15a-0e6b-4c32-8a97-7af5f593cf52",
     "showTitle": false,
     "tableResultSettingsMap": {},
     "title": ""
    }
   },
   "outputs": [],
   "source": [
    "%sql\n",
    "select * from auto.chetna_bronze.med_data;"
   ]
  },
  {
   "cell_type": "code",
   "execution_count": 0,
   "metadata": {
    "application/vnd.databricks.v1+cell": {
     "cellMetadata": {},
     "inputWidgets": {},
     "nuid": "480f9b2f-e5ac-42c8-aced-e68c34c36335",
     "showTitle": false,
     "tableResultSettingsMap": {},
     "title": ""
    }
   },
   "outputs": [],
   "source": []
  }
 ],
 "metadata": {
  "application/vnd.databricks.v1+notebook": {
   "computePreferences": null,
   "dashboards": [],
   "environmentMetadata": {
    "base_environment": "",
    "environment_version": "2"
   },
   "inputWidgetPreferences": null,
   "language": "python",
   "notebookMetadata": {
    "mostRecentlyExecutedCommandWithImplicitDF": {
     "commandId": 1045122400599309,
     "dataframes": [
      "_sqldf"
     ]
    },
    "pythonIndentUnit": 4
   },
   "notebookName": "CJ_Autoloader_Json",
   "widgets": {}
  },
  "language_info": {
   "name": "python"
  }
 },
 "nbformat": 4,
 "nbformat_minor": 0
}
