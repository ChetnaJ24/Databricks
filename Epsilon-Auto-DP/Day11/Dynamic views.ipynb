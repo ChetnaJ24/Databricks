{
 "cells": [
  {
   "cell_type": "code",
   "execution_count": 0,
   "metadata": {
    "application/vnd.databricks.v1+cell": {
     "cellMetadata": {},
     "inputWidgets": {},
     "nuid": "32f53d14-2e1e-4e7f-ae9a-7d5a145add8f",
     "showTitle": false,
     "tableResultSettingsMap": {},
     "title": ""
    }
   },
   "outputs": [],
   "source": [
    "https://docs.databricks.com/gcp/en/views/dynamic"
   ]
  },
  {
   "cell_type": "code",
   "execution_count": 0,
   "metadata": {
    "application/vnd.databricks.v1+cell": {
     "cellMetadata": {
      "byteLimit": 2048000,
      "rowLimit": 10000
     },
     "inputWidgets": {},
     "nuid": "afc90f2a-d7c8-4e90-aea9-f48ba844900d",
     "showTitle": false,
     "tableResultSettingsMap": {},
     "title": ""
    }
   },
   "outputs": [],
   "source": [
    "select * from auto.naval_gold.agg_heartrate"
   ]
  },
  {
   "cell_type": "code",
   "execution_count": 0,
   "metadata": {
    "application/vnd.databricks.v1+cell": {
     "cellMetadata": {
      "byteLimit": 2048000,
      "rowLimit": 10000
     },
     "inputWidgets": {},
     "nuid": "d92886bd-02e6-47c5-a37f-54674c45de6c",
     "showTitle": false,
     "tableResultSettingsMap": {},
     "title": ""
    }
   },
   "outputs": [],
   "source": [
    "/*create or replace view auto.chetna_gold.heartrate \n",
    "as \n",
    "SELECT * FROM heartrate_device  \n",
    "where\n",
    "CASE\n",
    "    WHEN is_account_group_member('account users') THEN device_id>17\n",
    "    ELSE True\n",
    "  END;\n",
    "*/\n",
    "use catalog auto;\n",
    "CREATE OR REPLACE VIEW auto.chetna_gold.agg_heartrate AS (\n",
    "  SELECT \n",
    "  CASE WHEN\n",
    "    is_account_group_member('account users') THEN 'REDACTED'\n",
    "    ELSE mrn\n",
    "  END AS mrn, \n",
    "  name, \n",
    "  MEAN(heartrate) avg_heartrate, \n",
    "  DATE_TRUNC(\"DD\", time) date\n",
    "  FROM auto.naval_silver.heartrate_device\n",
    "  where\n",
    "  CASE\n",
    "    WHEN is_account_group_member('account users') THEN any_value(device_id) > 17\n",
    "    ELSE True\n",
    "  END\n",
    "  GROUP BY mrn, name, DATE_TRUNC(\"DD\", time)\n",
    ");"
   ]
  },
  {
   "cell_type": "code",
   "execution_count": 0,
   "metadata": {
    "application/vnd.databricks.v1+cell": {
     "cellMetadata": {
      "byteLimit": 2048000,
      "rowLimit": 10000
     },
     "inputWidgets": {},
     "nuid": "1c9f8ba1-860a-44f9-8347-b88dfed2ba73",
     "showTitle": false,
     "tableResultSettingsMap": {},
     "title": ""
    }
   },
   "outputs": [],
   "source": [
    "CREATE OR REPLACE VIEW chetna_gold.agg_heartrate AS (\n",
    "  SELECT \n",
    "  CASE WHEN\n",
    "    is_account_group_member('da') THEN 'REDACTED'\n",
    "    ELSE mrn\n",
    "  END AS mrn, \n",
    "  name, \n",
    "  MEAN(heartrate) avg_heartrate, \n",
    "  DATE_TRUNC(\"DD\", time) date\n",
    "  FROM auto.naval_silver.heartrate_device\n",
    "  where\n",
    "  CASE\n",
    "    WHEN is_account_group_member('da') THEN heartrate>53\n",
    "    ELSE True\n",
    "  END\n",
    "  GROUP BY mrn, name, DATE_TRUNC(\"DD\", time)\n",
    ");"
   ]
  },
  {
   "cell_type": "code",
   "execution_count": 0,
   "metadata": {
    "application/vnd.databricks.v1+cell": {
     "cellMetadata": {
      "byteLimit": 2048000,
      "rowLimit": 10000
     },
     "inputWidgets": {},
     "nuid": "2fe2135f-0cdc-4d96-874e-2bc6fcf7270d",
     "showTitle": false,
     "tableResultSettingsMap": {},
     "title": ""
    }
   },
   "outputs": [],
   "source": [
    "select * from chetna_gold.agg_heartrate"
   ]
  },
  {
   "cell_type": "code",
   "execution_count": 0,
   "metadata": {
    "application/vnd.databricks.v1+cell": {
     "cellMetadata": {
      "byteLimit": 2048000,
      "rowLimit": 10000
     },
     "inputWidgets": {},
     "nuid": "a1341f35-4843-4ede-85f4-bebca4cb2b02",
     "showTitle": false,
     "tableResultSettingsMap": {},
     "title": ""
    }
   },
   "outputs": [],
   "source": [
    "CREATE OR REPLACE FUNCTION datamask(x STRING)\n",
    "  RETURNS STRING\n",
    "  RETURN CONCAT(REPEAT(\"*\", LENGTH(x) - 2), RIGHT(x, 2)\n",
    "); "
   ]
  },
  {
   "cell_type": "code",
   "execution_count": 0,
   "metadata": {
    "application/vnd.databricks.v1+cell": {
     "cellMetadata": {
      "byteLimit": 2048000,
      "rowLimit": 10000
     },
     "inputWidgets": {},
     "nuid": "ae88d0c6-db4d-43b9-bf8a-bd4ff8475e89",
     "showTitle": false,
     "tableResultSettingsMap": {},
     "title": ""
    }
   },
   "outputs": [],
   "source": [
    "select datamask(\"87chets.joshi@gmail.com\") as masked_email"
   ]
  },
  {
   "cell_type": "code",
   "execution_count": 0,
   "metadata": {
    "application/vnd.databricks.v1+cell": {
     "cellMetadata": {
      "byteLimit": 2048000,
      "rowLimit": 10000
     },
     "inputWidgets": {},
     "nuid": "d67f4a8b-f149-4363-87bd-6bbfe46a119c",
     "showTitle": false,
     "tableResultSettingsMap": {},
     "title": ""
    }
   },
   "outputs": [],
   "source": [
    "CREATE OR REPLACE VIEW chetna_gold.agg_heartrate AS (\n",
    "  SELECT \n",
    "  CASE WHEN\n",
    "    is_account_group_member('da') THEN datamask(mrn)--'REDACTED'\n",
    "    ELSE mrn\n",
    "  END AS mrn, \n",
    "  name, \n",
    "  MEAN(heartrate) avg_heartrate, \n",
    "  DATE_TRUNC(\"DD\", time) date\n",
    "  FROM auto.naval_silver.heartrate_device\n",
    "  where\n",
    "  CASE\n",
    "    WHEN is_account_group_member('da') THEN heartrate>53\n",
    "    ELSE True\n",
    "  END\n",
    "  GROUP BY mrn, name, DATE_TRUNC(\"DD\", time)\n",
    ");"
   ]
  },
  {
   "cell_type": "code",
   "execution_count": 0,
   "metadata": {
    "application/vnd.databricks.v1+cell": {
     "cellMetadata": {
      "byteLimit": 2048000,
      "rowLimit": 10000
     },
     "inputWidgets": {},
     "nuid": "35771a04-c848-40dc-bd89-f8bff5341a78",
     "showTitle": false,
     "tableResultSettingsMap": {},
     "title": ""
    }
   },
   "outputs": [],
   "source": [
    "select * from chetna_gold.agg_heartrate"
   ]
  },
  {
   "cell_type": "code",
   "execution_count": 0,
   "metadata": {
    "application/vnd.databricks.v1+cell": {
     "cellMetadata": {},
     "inputWidgets": {},
     "nuid": "055c3d62-37ef-48ab-9957-9facde34476f",
     "showTitle": false,
     "tableResultSettingsMap": {},
     "title": ""
    }
   },
   "outputs": [],
   "source": []
  }
 ],
 "metadata": {
  "application/vnd.databricks.v1+notebook": {
   "computePreferences": null,
   "dashboards": [],
   "environmentMetadata": {
    "base_environment": "",
    "environment_version": "2"
   },
   "inputWidgetPreferences": null,
   "language": "sql",
   "notebookMetadata": {
    "pythonIndentUnit": 4
   },
   "notebookName": "Dynamic views",
   "widgets": {}
  },
  "language_info": {
   "name": "sql"
  }
 },
 "nbformat": 4,
 "nbformat_minor": 0
}
